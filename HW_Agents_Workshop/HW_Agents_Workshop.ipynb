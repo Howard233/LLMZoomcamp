{
 "cells": [
  {
   "cell_type": "markdown",
   "id": "976d121e",
   "metadata": {},
   "source": [
    "## Homework: Agents\n",
    "\n",
    "In this homework, we will learn more about function calling,\n",
    "and we will also explore MCP - model-context protocol. \n",
    "\n",
    "\n",
    "## Preparation\n",
    "\n",
    "First, we'll define a function that we will use when building\n",
    "our agent. \n",
    "\n",
    "It will generate fake weather data:"
   ]
  },
  {
   "cell_type": "code",
   "execution_count": 4,
   "id": "f4eda117",
   "metadata": {},
   "outputs": [],
   "source": [
    "import random\n",
    "\n",
    "known_weather_data = {\n",
    "    'berlin': 20.0\n",
    "}\n",
    "\n",
    "def get_weather(city: str) -> float:\n",
    "    city = city.strip().lower()\n",
    "\n",
    "    if city in known_weather_data:\n",
    "        return known_weather_data[city]\n",
    "\n",
    "    return round(random.uniform(-5, 35), 1)"
   ]
  },
  {
   "cell_type": "markdown",
   "id": "0e6380f2",
   "metadata": {},
   "source": [
    "## Q1. Define function description\n",
    "\n",
    "We want to use it as a tool for our agent, so we need to \n",
    "describe it \n",
    "\n",
    "How should the description for this function look like? Fill in missing parts\n",
    "\n",
    "```python\n",
    "get_weather_tool = {\n",
    "    \"type\": \"function\",\n",
    "    \"name\": \"<TODO1>\",\n",
    "    \"description\": \"<TODO2>\",\n",
    "    \"parameters\": {\n",
    "        \"type\": \"object\",\n",
    "        \"properties\": {\n",
    "            \"<TODO3>\": {\n",
    "                \"type\": \"string\",\n",
    "                \"description\": \"<TODO4>\"\n",
    "            }\n",
    "        },\n",
    "        \"required\": [TODO5],\n",
    "        \"additionalProperties\": False\n",
    "    }\n",
    "}\n",
    "```\n"
   ]
  },
  {
   "cell_type": "markdown",
   "id": "71602536",
   "metadata": {},
   "source": [
    "What did you put in `TODO3`?"
   ]
  },
  {
   "cell_type": "code",
   "execution_count": 5,
   "id": "f51578c0",
   "metadata": {},
   "outputs": [],
   "source": [
    "# fill in the tool\n",
    "get_weather_tool = {\n",
    "    \"type\": \"function\",\n",
    "    \"name\": \"get_weather\", # \"<TODO1>\",\n",
    "    \"description\": \"Get the weather of a given city\", # \"<TODO2>\",\n",
    "    \"parameters\": {\n",
    "        \"type\": \"object\",\n",
    "        \"properties\": {\n",
    "            # \"<TODO3>\": {\n",
    "            \"city\": {\n",
    "                \"type\": \"string\",\n",
    "                \"description\": \"The city we want to get the weather data for\" # \"<TODO4>\"\n",
    "            }\n",
    "        },\n",
    "        \"required\": [\"city\"],# [TODO5],\n",
    "        \"additionalProperties\": False\n",
    "    }\n",
    "}"
   ]
  },
  {
   "cell_type": "markdown",
   "id": "2fa7ecdf",
   "metadata": {},
   "source": [
    "## Testing it (Optional)\n",
    "\n",
    "If you have OpenAI API Key (or alternative provider),\n",
    "let's test it.\n",
    "\n",
    "A question could be \"What's the weather like in Germany?\"\n",
    "\n",
    "Experiment with different system prompts to have better answers\n",
    "from the system.\n",
    "\n",
    "You can use [chat_assistant.py](https://github.com/alexeygrigorev/rag-agents-workshop/blob/main/chat_assistant.py)\n",
    "or implement everything yourself \n",
    "\n",
    "```bash\n",
    "wget https://raw.githubusercontent.com/alexeygrigorev/rag-agents-workshop/refs/heads/main/chat_assistant.py\n",
    "```"
   ]
  },
  {
   "cell_type": "code",
   "execution_count": 7,
   "id": "7c7d4ff5",
   "metadata": {},
   "outputs": [
    {
     "name": "stdout",
     "output_type": "stream",
     "text": [
      "--2025-07-09 22:21:25--  https://raw.githubusercontent.com/alexeygrigorev/rag-agents-workshop/refs/heads/main/chat_assistant.py\n",
      "Resolving raw.githubusercontent.com (raw.githubusercontent.com)... 2606:50c0:8000::154, 2606:50c0:8001::154, 2606:50c0:8002::154, ...\n",
      "Connecting to raw.githubusercontent.com (raw.githubusercontent.com)|2606:50c0:8000::154|:443... connected.\n",
      "HTTP request sent, awaiting response... 200 OK\n",
      "Length: 3485 (3.4K) [text/plain]\n",
      "Saving to: ‘chat_assistant.py’\n",
      "\n",
      "chat_assistant.py   100%[===================>]   3.40K  --.-KB/s    in 0s      \n",
      "\n",
      "2025-07-09 22:21:25 (22.2 MB/s) - ‘chat_assistant.py’ saved [3485/3485]\n",
      "\n"
     ]
    }
   ],
   "source": [
    "!wget https://raw.githubusercontent.com/alexeygrigorev/rag-agents-workshop/refs/heads/main/chat_assistant.py"
   ]
  },
  {
   "cell_type": "code",
   "execution_count": 6,
   "id": "3a67230a",
   "metadata": {},
   "outputs": [],
   "source": [
    "from openai import OpenAI\n",
    "client = OpenAI()"
   ]
  },
  {
   "cell_type": "code",
   "execution_count": 7,
   "id": "a3fd0858",
   "metadata": {},
   "outputs": [],
   "source": [
    "import chat_assistant\n",
    "\n",
    "tools = chat_assistant.Tools()\n",
    "tools.add_tool(get_weather, get_weather_tool)\n",
    "\n",
    "tools.get_tools()\n",
    "\n",
    "develoer_prompt = \"\"\"\n",
    "You're a weather checking assistant.\n",
    "You're given a city from a user and your task is to provide the weather of the city.\n",
    "\"\"\".strip()\n",
    "\n",
    "chat_interface = chat_assistant.ChatInterface()\n",
    "\n",
    "chat = chat_assistant.ChatAssistant(\n",
    "    tools=tools,\n",
    "    developer_prompt=develoer_prompt,\n",
    "    chat_interface=chat_interface,\n",
    "    client=client\n",
    ")"
   ]
  },
  {
   "cell_type": "code",
   "execution_count": 8,
   "id": "401a28f0",
   "metadata": {},
   "outputs": [
    {
     "data": {
      "text/html": [
       "\n",
       "            <details>\n",
       "            <summary>Function call: <tt>get_weather({\"city\":\"Berlin\"})</tt></summary>\n",
       "            <div>\n",
       "                <b>Call</b>\n",
       "                <pre>ResponseFunctionToolCall(arguments='{\"city\":\"Berlin\"}', call_id='call_EreuTtGAGEzzUceiOfSbeD6Q', name='get_weather', type='function_call', id='fc_687060e789cc819b909a6dc3006fbb6d065824d67bbf38bc', status='completed')</pre>\n",
       "            </div>\n",
       "            <div>\n",
       "                <b>Output</b>\n",
       "                <pre>20.0</pre>\n",
       "            </div>\n",
       "            \n",
       "            </details>\n",
       "        "
      ],
      "text/plain": [
       "<IPython.core.display.HTML object>"
      ]
     },
     "metadata": {},
     "output_type": "display_data"
    },
    {
     "data": {
      "text/html": [
       "\n",
       "            <div>\n",
       "                <div><b>Assistant:</b></div>\n",
       "                <div><p>The weather in Berlin, Germany, is currently 20°C. If you need more specific details or information about a different city in Germany, let me know!</p></div>\n",
       "            </div>\n",
       "        "
      ],
      "text/plain": [
       "<IPython.core.display.HTML object>"
      ]
     },
     "metadata": {},
     "output_type": "display_data"
    },
    {
     "name": "stdout",
     "output_type": "stream",
     "text": [
      "Chat ended.\n"
     ]
    }
   ],
   "source": [
    "chat.run()"
   ]
  },
  {
   "cell_type": "markdown",
   "id": "080041ba",
   "metadata": {},
   "source": [
    "## Q2. Adding another tool\n",
    "\n",
    "Let's add another tool - a function that can add weather data\n",
    "to our database:"
   ]
  },
  {
   "cell_type": "code",
   "execution_count": 9,
   "id": "36eddce6",
   "metadata": {},
   "outputs": [],
   "source": [
    "def set_weather(city: str, temp: float) -> None:\n",
    "    city = city.strip().lower()\n",
    "    known_weather_data[city] = temp\n",
    "    return 'OK'"
   ]
  },
  {
   "cell_type": "markdown",
   "id": "e7e562d1",
   "metadata": {},
   "source": [
    "Now let's write a description for it.\n",
    "\n",
    "What did you write?"
   ]
  },
  {
   "cell_type": "code",
   "execution_count": 10,
   "id": "be7d5d04",
   "metadata": {},
   "outputs": [],
   "source": [
    "# fill in the tool\n",
    "set_weather_tool = {\n",
    "    \"type\": \"function\",\n",
    "    \"name\": \"set_weather\",\n",
    "    \"description\": \"Set the temperature of a given city in our record\",\n",
    "    \"parameters\": {\n",
    "        \"type\": \"object\",\n",
    "        \"properties\": {\n",
    "            \"city\": {\n",
    "                \"type\": \"string\",\n",
    "                \"description\": \"The city we want to set the temperature for\"\n",
    "            },\n",
    "            \"temp\": {\n",
    "                \"type\": \"string\",\n",
    "                \"description\": \"The temperature we want to set for the city\"\n",
    "            }\n",
    "        },\n",
    "        \"required\": [\"city\", \"temp\"],\n",
    "        \"additionalProperties\": False\n",
    "    }\n",
    "}"
   ]
  },
  {
   "cell_type": "markdown",
   "id": "fe5f10fc",
   "metadata": {},
   "source": [
    "Optionally, you can test it after adding this function."
   ]
  },
  {
   "cell_type": "code",
   "execution_count": 11,
   "id": "40b949b9",
   "metadata": {},
   "outputs": [
    {
     "data": {
      "text/plain": [
       "[{'type': 'function',\n",
       "  'name': 'get_weather',\n",
       "  'description': 'Get the weather of a given city',\n",
       "  'parameters': {'type': 'object',\n",
       "   'properties': {'city': {'type': 'string',\n",
       "     'description': 'The city we want to get the weather data for'}},\n",
       "   'required': ['city'],\n",
       "   'additionalProperties': False}},\n",
       " {'type': 'function',\n",
       "  'name': 'set_weather',\n",
       "  'description': 'Set the temperature of a given city in our record',\n",
       "  'parameters': {'type': 'object',\n",
       "   'properties': {'city': {'type': 'string',\n",
       "     'description': 'The city we want to set the temperature for'},\n",
       "    'temp': {'type': 'string',\n",
       "     'description': 'The temperature we want to set for the city'}},\n",
       "   'required': ['city', 'temp'],\n",
       "   'additionalProperties': False}}]"
      ]
     },
     "execution_count": 11,
     "metadata": {},
     "output_type": "execute_result"
    }
   ],
   "source": [
    "tools.add_tool(set_weather, set_weather_tool)\n",
    "tools.get_tools()"
   ]
  },
  {
   "cell_type": "code",
   "execution_count": 12,
   "id": "1070b60d",
   "metadata": {},
   "outputs": [],
   "source": [
    "chat = chat_assistant.ChatAssistant(\n",
    "    tools=tools,\n",
    "    developer_prompt=develoer_prompt,\n",
    "    chat_interface=chat_interface,\n",
    "    client=client\n",
    ")"
   ]
  },
  {
   "cell_type": "code",
   "execution_count": 13,
   "id": "2fcadeee",
   "metadata": {},
   "outputs": [
    {
     "data": {
      "text/html": [
       "\n",
       "            <details>\n",
       "            <summary>Function call: <tt>get_weather({\"city\":\"Berlin\"})</tt></summary>\n",
       "            <div>\n",
       "                <b>Call</b>\n",
       "                <pre>ResponseFunctionToolCall(arguments='{\"city\":\"Berlin\"}', call_id='call_Ix1wGJNpo6zrZbeNMHxhErOd', name='get_weather', type='function_call', id='fc_68706380906081999f4716d9431f1bd80aab1eb5293be72c', status='completed')</pre>\n",
       "            </div>\n",
       "            <div>\n",
       "                <b>Output</b>\n",
       "                <pre>20.0</pre>\n",
       "            </div>\n",
       "            \n",
       "            </details>\n",
       "        "
      ],
      "text/plain": [
       "<IPython.core.display.HTML object>"
      ]
     },
     "metadata": {},
     "output_type": "display_data"
    },
    {
     "data": {
      "text/html": [
       "\n",
       "            <div>\n",
       "                <div><b>Assistant:</b></div>\n",
       "                <div><p>The current temperature in Berlin is 20°C. If you need more details about the weather conditions, feel free to ask!</p></div>\n",
       "            </div>\n",
       "        "
      ],
      "text/plain": [
       "<IPython.core.display.HTML object>"
      ]
     },
     "metadata": {},
     "output_type": "display_data"
    },
    {
     "data": {
      "text/html": [
       "\n",
       "            <details>\n",
       "            <summary>Function call: <tt>get_weather({\"city\":\"London\"})</tt></summary>\n",
       "            <div>\n",
       "                <b>Call</b>\n",
       "                <pre>ResponseFunctionToolCall(arguments='{\"city\":\"London\"}', call_id='call_vhPoJNz6Xilt0kWqjO0WXeND', name='get_weather', type='function_call', id='fc_68706389f06c819992bc3b83e61e534a0aab1eb5293be72c', status='completed')</pre>\n",
       "            </div>\n",
       "            <div>\n",
       "                <b>Output</b>\n",
       "                <pre>31.8</pre>\n",
       "            </div>\n",
       "            \n",
       "            </details>\n",
       "        "
      ],
      "text/plain": [
       "<IPython.core.display.HTML object>"
      ]
     },
     "metadata": {},
     "output_type": "display_data"
    },
    {
     "data": {
      "text/html": [
       "\n",
       "            <div>\n",
       "                <div><b>Assistant:</b></div>\n",
       "                <div><p>The current temperature in London is 31.8°C. Let me know if you need any more information!</p></div>\n",
       "            </div>\n",
       "        "
      ],
      "text/plain": [
       "<IPython.core.display.HTML object>"
      ]
     },
     "metadata": {},
     "output_type": "display_data"
    },
    {
     "data": {
      "text/html": [
       "\n",
       "            <details>\n",
       "            <summary>Function call: <tt>set_weather({\"city\":\"London\",\"temp\":\"20\"})</tt></summary>\n",
       "            <div>\n",
       "                <b>Call</b>\n",
       "                <pre>ResponseFunctionToolCall(arguments='{\"city\":\"London\",\"temp\":\"20\"}', call_id='call_hgB5gPpdftEpvskvQdFHAAn6', name='set_weather', type='function_call', id='fc_687063964bb08199aac983429ca9499b0aab1eb5293be72c', status='completed')</pre>\n",
       "            </div>\n",
       "            <div>\n",
       "                <b>Output</b>\n",
       "                <pre>\"OK\"</pre>\n",
       "            </div>\n",
       "            \n",
       "            </details>\n",
       "        "
      ],
      "text/plain": [
       "<IPython.core.display.HTML object>"
      ]
     },
     "metadata": {},
     "output_type": "display_data"
    },
    {
     "data": {
      "text/html": [
       "\n",
       "            <div>\n",
       "                <div><b>Assistant:</b></div>\n",
       "                <div><p>The temperature for London has been set to 20°C successfully! If you need anything else, just let me know.</p></div>\n",
       "            </div>\n",
       "        "
      ],
      "text/plain": [
       "<IPython.core.display.HTML object>"
      ]
     },
     "metadata": {},
     "output_type": "display_data"
    },
    {
     "data": {
      "text/html": [
       "\n",
       "            <details>\n",
       "            <summary>Function call: <tt>get_weather({\"city\":\"London\"})</tt></summary>\n",
       "            <div>\n",
       "                <b>Call</b>\n",
       "                <pre>ResponseFunctionToolCall(arguments='{\"city\":\"London\"}', call_id='call_VWyuWd5ZsTtxLLcLhwP9GvKs', name='get_weather', type='function_call', id='fc_6870639e70388199adb7de611ba0de580aab1eb5293be72c', status='completed')</pre>\n",
       "            </div>\n",
       "            <div>\n",
       "                <b>Output</b>\n",
       "                <pre>\"20\"</pre>\n",
       "            </div>\n",
       "            \n",
       "            </details>\n",
       "        "
      ],
      "text/plain": [
       "<IPython.core.display.HTML object>"
      ]
     },
     "metadata": {},
     "output_type": "display_data"
    },
    {
     "data": {
      "text/html": [
       "\n",
       "            <div>\n",
       "                <div><b>Assistant:</b></div>\n",
       "                <div><p>The current temperature in London is now 20°C. If you have more questions or need further assistance, feel free to ask!</p></div>\n",
       "            </div>\n",
       "        "
      ],
      "text/plain": [
       "<IPython.core.display.HTML object>"
      ]
     },
     "metadata": {},
     "output_type": "display_data"
    },
    {
     "name": "stdout",
     "output_type": "stream",
     "text": [
      "Chat ended.\n"
     ]
    }
   ],
   "source": [
    "chat.run()"
   ]
  },
  {
   "cell_type": "markdown",
   "id": "c205a241",
   "metadata": {},
   "source": [
    "## MCP\n",
    "\n",
    "MCP stands for Model-Context Protocol. It allows LLMs communicate\n",
    "with different tools (like Qdrant). It's function calling, but \n",
    "one step further:\n",
    "\n",
    "* A tool can export a list of functions it has\n",
    "* When we include the tool to our Agent, we just need to include the link to the MCP server\n"
   ]
  },
  {
   "cell_type": "markdown",
   "id": "49466a83",
   "metadata": {},
   "source": [
    "## Q3. Install FastMCP\n",
    "\n",
    "Let's install a library for MCP - [FastMCP](https://github.com/jlowin/fastmcp):\n",
    "\n",
    "```bash\n",
    "pip install fastmcp\n",
    "```\n",
    "\n",
    "What's the version of FastMCP you installed?"
   ]
  },
  {
   "cell_type": "code",
   "execution_count": 22,
   "id": "824b2de5",
   "metadata": {},
   "outputs": [
    {
     "name": "stdout",
     "output_type": "stream",
     "text": [
      "\u001b[2mUsing Python 3.10.17 environment at: /Users/haozhewang/Desktop/LLMZoomcamp/.venv\u001b[0m\n",
      "\u001b[2K\u001b[2mResolved \u001b[1m44 packages\u001b[0m \u001b[2min 498ms\u001b[0m\u001b[0m                                        \u001b[0m\n",
      "\u001b[2K   \u001b[36m\u001b[1mBuilding\u001b[0m\u001b[39m pyperclip\u001b[2m==1.9.0\u001b[0m                                           \n",
      "\u001b[2K\u001b[1A   \u001b[36m\u001b[1mBuilding\u001b[0m\u001b[39m pyperclip\u001b[2m==1.9.0\u001b[0m                                   \u001b[1A\n",
      "\u001b[37m⠙\u001b[0m \u001b[2mPreparing packages...\u001b[0m (0/12)\n",
      "\u001b[2K\u001b[2A   \u001b[36m\u001b[1mBuilding\u001b[0m\u001b[39m pyperclip\u001b[2m==1.9.0\u001b[0m\u001b[0m     0 B/434.36 KiB                    \u001b[2A\n",
      "\u001b[37m⠙\u001b[0m \u001b[2mPreparing packages...\u001b[0m (0/12)\n",
      "\u001b[2K\u001b[2A   \u001b[36m\u001b[1mBuilding\u001b[0m\u001b[39m pyperclip\u001b[2m==1.9.0\u001b[0m\u001b[0m 16.00 KiB/434.36 KiB                  \u001b[2A\n",
      "\u001b[37m⠙\u001b[0m \u001b[2mPreparing packages...\u001b[0m (0/12)\n",
      "\u001b[2muvicorn   \u001b[0m \u001b[32m\u001b[2m------------------------------\u001b[0m\u001b[0m     0 B/64.85 KiB\n",
      "\u001b[2K\u001b[3A   \u001b[36m\u001b[1mBuilding\u001b[0m\u001b[39m pyperclip\u001b[2m==1.9.0\u001b[0m\u001b[0m 16.00 KiB/434.36 KiB                  \u001b[3A\n",
      "\u001b[37m⠙\u001b[0m \u001b[2mPreparing packages...\u001b[0m (0/12)\n",
      "\u001b[2muvicorn   \u001b[0m \u001b[32m-------\u001b[2m-----------------------\u001b[0m\u001b[0m 14.91 KiB/64.85 KiB\n",
      "\u001b[2K\u001b[3A   \u001b[36m\u001b[1mBuilding\u001b[0m\u001b[39m pyperclip\u001b[2m==1.9.0\u001b[0m\u001b[0m 16.00 KiB/434.36 KiB                  \u001b[3A\n",
      "\u001b[37m⠙\u001b[0m \u001b[2mPreparing packages...\u001b[0m (0/12)\n",
      "\u001b[2muvicorn   \u001b[0m \u001b[32m-------\u001b[2m-----------------------\u001b[0m\u001b[0m 14.91 KiB/64.85 KiB\n",
      "\u001b[2K\u001b[3A   \u001b[36m\u001b[1mBuilding\u001b[0m\u001b[39m pyperclip\u001b[2m==1.9.0\u001b[0m\u001b[0m 32.00 KiB/434.36 KiB                  \u001b[3A\n",
      "\u001b[37m⠙\u001b[0m \u001b[2mPreparing packages...\u001b[0m (0/12)\n",
      "\u001b[2muvicorn   \u001b[0m \u001b[32m-------\u001b[2m-----------------------\u001b[0m\u001b[0m 14.91 KiB/64.85 KiB\n",
      "\u001b[2K\u001b[3A   \u001b[36m\u001b[1mBuilding\u001b[0m\u001b[39m pyperclip\u001b[2m==1.9.0\u001b[0m\u001b[0m 48.00 KiB/434.36 KiB                  \u001b[3A\n",
      "\u001b[37m⠙\u001b[0m \u001b[2mPreparing packages...\u001b[0m (0/12)\n",
      "\u001b[2muvicorn   \u001b[0m \u001b[32m-------\u001b[2m-----------------------\u001b[0m\u001b[0m 14.91 KiB/64.85 KiB\n",
      "\u001b[2K\u001b[3A   \u001b[36m\u001b[1mBuilding\u001b[0m\u001b[39m pyperclip\u001b[2m==1.9.0\u001b[0m\u001b[0m 62.08 KiB/434.36 KiB                  \u001b[3A\n",
      "\u001b[37m⠙\u001b[0m \u001b[2mPreparing packages...\u001b[0m (0/12)\n",
      "\u001b[2muvicorn   \u001b[0m \u001b[32m-------\u001b[2m-----------------------\u001b[0m\u001b[0m 14.91 KiB/64.85 KiB\n",
      "\u001b[2K\u001b[3A   \u001b[36m\u001b[1mBuilding\u001b[0m\u001b[39m pyperclip\u001b[2m==1.9.0\u001b[0m\u001b[0m 78.08 KiB/434.36 KiB                  \u001b[3A\n",
      "\u001b[37m⠙\u001b[0m \u001b[2mPreparing packages...\u001b[0m (0/12)\n",
      "\u001b[2muvicorn   \u001b[0m \u001b[32m---------------\u001b[2m---------------\u001b[0m\u001b[0m 30.91 KiB/64.85 KiB\n",
      "\u001b[2K\u001b[3A   \u001b[36m\u001b[1mBuilding\u001b[0m\u001b[39m pyperclip\u001b[2m==1.9.0\u001b[0m\u001b[0m 78.08 KiB/434.36 KiB                  \u001b[3A\n",
      "\u001b[37m⠙\u001b[0m \u001b[2mPreparing packages...\u001b[0m (0/12)\n",
      "\u001b[2muvicorn   \u001b[0m \u001b[32m---------------\u001b[2m---------------\u001b[0m\u001b[0m 30.91 KiB/64.85 KiB\n",
      "\u001b[2K\u001b[3A   \u001b[36m\u001b[1mBuilding\u001b[0m\u001b[39m pyperclip\u001b[2m==1.9.0\u001b[0m\u001b[0m 94.08 KiB/434.36 KiB                  \u001b[3A\n",
      "\u001b[37m⠙\u001b[0m \u001b[2mPreparing packages...\u001b[0m (0/12)\n",
      "\u001b[2muvicorn   \u001b[0m \u001b[32m----------------------\u001b[2m--------\u001b[0m\u001b[0m 46.91 KiB/64.85 KiB\n",
      "\u001b[2K\u001b[3A   \u001b[36m\u001b[1mBuilding\u001b[0m\u001b[39m pyperclip\u001b[2m==1.9.0\u001b[0m\u001b[0m 94.08 KiB/434.36 KiB                  \u001b[3A\n",
      "\u001b[37m⠙\u001b[0m \u001b[2mPreparing packages...\u001b[0m (0/12)\n",
      "\u001b[2muvicorn   \u001b[0m \u001b[32m----------------------\u001b[2m--------\u001b[0m\u001b[0m 46.91 KiB/64.85 KiB\n",
      "\u001b[2K\u001b[3A   \u001b[36m\u001b[1mBuilding\u001b[0m\u001b[39m pyperclip\u001b[2m==1.9.0\u001b[0m\u001b[0m 110.08 KiB/434.36 KiB                 \u001b[3A\n",
      "\u001b[37m⠙\u001b[0m \u001b[2mPreparing packages...\u001b[0m (0/12)\n",
      "\u001b[2muvicorn   \u001b[0m \u001b[32m------------------------------\u001b[2m\u001b[0m\u001b[0m 62.91 KiB/64.85 KiB\n",
      "\u001b[2K\u001b[3A   \u001b[36m\u001b[1mBuilding\u001b[0m\u001b[39m pyperclip\u001b[2m==1.9.0\u001b[0m\u001b[0m 110.08 KiB/434.36 KiB                 \u001b[3A\n",
      "\u001b[37m⠙\u001b[0m \u001b[2mPreparing packages...\u001b[0m (0/12)\n",
      "\u001b[2muvicorn   \u001b[0m \u001b[32m------------------------------\u001b[2m\u001b[0m\u001b[0m 62.91 KiB/64.85 KiB\n",
      "\u001b[2K\u001b[3A   \u001b[36m\u001b[1mBuilding\u001b[0m\u001b[39m pyperclip\u001b[2m==1.9.0\u001b[0m\u001b[0m 126.08 KiB/434.36 KiB                 \u001b[3A\n",
      "\u001b[37m⠙\u001b[0m \u001b[2mPreparing packages...\u001b[0m (0/12)\n",
      "\u001b[2msse-starlette\u001b[0m \u001b[32m\u001b[2m------------------------------\u001b[0m\u001b[0m     0 B/10.57 KiB\n",
      "\u001b[2muvicorn   \u001b[0m \u001b[32m------------------------------\u001b[2m\u001b[0m\u001b[0m 62.91 KiB/64.85 KiB\n",
      "\u001b[2K\u001b[4A   \u001b[36m\u001b[1mBuilding\u001b[0m\u001b[39m pyperclip\u001b[2m==1.9.0\u001b[0m\u001b[0m 126.08 KiB/434.36 KiB                 \u001b[4A\n",
      "\u001b[37m⠙\u001b[0m \u001b[2mPreparing packages...\u001b[0m (0/12)\n",
      "\u001b[2msse-starlette\u001b[0m \u001b[32m------------------------------\u001b[2m\u001b[0m\u001b[0m 10.57 KiB/10.57 KiB\n",
      "\u001b[2muvicorn   \u001b[0m \u001b[32m------------------------------\u001b[2m\u001b[0m\u001b[0m 62.91 KiB/64.85 KiB\n",
      "\u001b[2K\u001b[4A   \u001b[36m\u001b[1mBuilding\u001b[0m\u001b[39m pyperclip\u001b[2m==1.9.0\u001b[0m\u001b[0m 126.08 KiB/434.36 KiB                 \u001b[4A\n",
      "\u001b[37m⠙\u001b[0m \u001b[2mPreparing packages...\u001b[0m (0/12)\n",
      "\u001b[2mhttpx-sse \u001b[0m \u001b[32m------------------------------\u001b[2m\u001b[0m\u001b[0m 7.87 KiB/7.87 KiB\n",
      "\u001b[2msse-starlette\u001b[0m \u001b[32m------------------------------\u001b[2m\u001b[0m\u001b[0m 10.57 KiB/10.57 KiB\n",
      "\u001b[2muvicorn   \u001b[0m \u001b[32m------------------------------\u001b[2m\u001b[0m\u001b[0m 62.91 KiB/64.85 KiB\n",
      "\u001b[2mcyclopts  \u001b[0m \u001b[32m------------\u001b[2m------------------\u001b[0m\u001b[0m 32.00 KiB/82.60 KiB\n",
      "\u001b[2mopenapi-pydantic\u001b[0m \u001b[32m------\u001b[2m------------------------\u001b[0m\u001b[0m 16.00 KiB/94.12 KiB\n",
      "\u001b[2mmcp       \u001b[0m \u001b[32m--\u001b[2m----------------------------\u001b[0m\u001b[0m 8.03 KiB/147.34 KiB\n",
      "\u001b[2mfastmcp   \u001b[0m \u001b[32m---\u001b[2m---------------------------\u001b[0m\u001b[0m 16.00 KiB/194.52 KiB\n",
      "\u001b[2mauthlib   \u001b[0m \u001b[32m--\u001b[2m----------------------------\u001b[0m\u001b[0m 14.88 KiB/234.36 KiB\n",
      "\u001b[2mpydantic  \u001b[0m \u001b[32m-----------\u001b[2m-------------------\u001b[0m\u001b[0m 150.21 KiB/434.36 KiB\n",
      "\u001b[2K\u001b[11A   \u001b[36m\u001b[1mBuilding\u001b[0m\u001b[39m pyperclip\u001b[2m==1.9.0\u001b[0m[0m 14.88 KiB/573.64 KiB                  \u001b[11A\n",
      "\u001b[37m⠙\u001b[0m \u001b[2mPreparing packages...\u001b[0m (0/12)\n",
      "\u001b[2mhttpx-sse \u001b[0m \u001b[32m------------------------------\u001b[2m\u001b[0m\u001b[0m 7.87 KiB/7.87 KiB\n",
      "\u001b[2muvicorn   \u001b[0m \u001b[32m------------------------------\u001b[2m\u001b[0m\u001b[0m 62.91 KiB/64.85 KiB\n",
      "\u001b[2mcyclopts  \u001b[0m \u001b[32m------------\u001b[2m------------------\u001b[0m\u001b[0m 32.00 KiB/82.60 KiB\n",
      "\u001b[2mopenapi-pydantic\u001b[0m \u001b[32m------\u001b[2m------------------------\u001b[0m\u001b[0m 16.00 KiB/94.12 KiB\n",
      "\u001b[2mmcp       \u001b[0m \u001b[32m--\u001b[2m----------------------------\u001b[0m\u001b[0m 8.03 KiB/147.34 KiB\n",
      "\u001b[2mfastmcp   \u001b[0m \u001b[32m---\u001b[2m---------------------------\u001b[0m\u001b[0m 16.00 KiB/194.52 KiB\n",
      "\u001b[2mauthlib   \u001b[0m \u001b[32m--\u001b[2m----------------------------\u001b[0m\u001b[0m 14.88 KiB/234.36 KiB\n",
      "\u001b[2mpydantic  \u001b[0m \u001b[32m-----------\u001b[2m-------------------\u001b[0m\u001b[0m 150.21 KiB/434.36 KiB\n",
      "\u001b[2K\u001b[10A   \u001b[36m\u001b[1mBuilding\u001b[0m\u001b[39m pyperclip\u001b[2m==1.9.0\u001b[0m[0m 14.88 KiB/573.64 KiB                  \u001b[10A\n",
      "\u001b[37m⠙\u001b[0m \u001b[2mPreparing packages...\u001b[0m (0/12)\n",
      "\u001b[2muvicorn   \u001b[0m \u001b[32m------------------------------\u001b[2m\u001b[0m\u001b[0m 64.85 KiB/64.85 KiB\n",
      "\u001b[2mcyclopts  \u001b[0m \u001b[32m------------\u001b[2m------------------\u001b[0m\u001b[0m 32.00 KiB/82.60 KiB\n",
      "\u001b[2mopenapi-pydantic\u001b[0m \u001b[32m------\u001b[2m------------------------\u001b[0m\u001b[0m 16.00 KiB/94.12 KiB\n",
      "\u001b[2mmcp       \u001b[0m \u001b[32m-----\u001b[2m-------------------------\u001b[0m\u001b[0m 24.03 KiB/147.34 KiB\n",
      "\u001b[2mfastmcp   \u001b[0m \u001b[32m---\u001b[2m---------------------------\u001b[0m\u001b[0m 16.00 KiB/194.52 KiB\n",
      "\u001b[2mauthlib   \u001b[0m \u001b[32m--\u001b[2m----------------------------\u001b[0m\u001b[0m 14.88 KiB/234.36 KiB\n",
      "\u001b[2mpydantic  \u001b[0m \u001b[32m------------\u001b[2m------------------\u001b[0m\u001b[0m 166.21 KiB/434.36 KiB\n",
      "\u001b[2K\u001b[9A   \u001b[36m\u001b[1mBuilding\u001b[0m\u001b[39m pyperclip\u001b[2m==1.9.0\u001b[0m\u001b[0m 30.88 KiB/573.64 KiB                  \u001b[9A\n",
      "\u001b[37m⠙\u001b[0m \u001b[2mPreparing packages...\u001b[0m (0/12)\n",
      "\u001b[2mcyclopts  \u001b[0m \u001b[32m------------\u001b[2m------------------\u001b[0m\u001b[0m 32.00 KiB/82.60 KiB\n",
      "\u001b[2mopenapi-pydantic\u001b[0m \u001b[32m------\u001b[2m------------------------\u001b[0m\u001b[0m 16.00 KiB/94.12 KiB\n",
      "\u001b[2mmcp       \u001b[0m \u001b[32m-----\u001b[2m-------------------------\u001b[0m\u001b[0m 24.03 KiB/147.34 KiB\n",
      "\u001b[2mfastmcp   \u001b[0m \u001b[32m---\u001b[2m---------------------------\u001b[0m\u001b[0m 16.00 KiB/194.52 KiB\n",
      "\u001b[2mauthlib   \u001b[0m \u001b[32m--\u001b[2m----------------------------\u001b[0m\u001b[0m 14.88 KiB/234.36 KiB\n",
      "\u001b[2mpydantic  \u001b[0m \u001b[32m------------\u001b[2m------------------\u001b[0m\u001b[0m 166.21 KiB/434.36 KiB\n",
      "\u001b[2K\u001b[8A   \u001b[36m\u001b[1mBuilding\u001b[0m\u001b[39m pyperclip\u001b[2m==1.9.0\u001b[0m\u001b[0m 30.88 KiB/573.64 KiB                  \u001b[8A\n",
      "\u001b[37m⠙\u001b[0m \u001b[2mPreparing packages...\u001b[0m (0/12)\n",
      "\u001b[2mopenapi-pydantic\u001b[0m \u001b[32m----------------\u001b[2m--------------\u001b[0m\u001b[0m 48.00 KiB/94.12 KiB\n",
      "\u001b[2mmcp       \u001b[0m \u001b[32m-----------\u001b[2m-------------------\u001b[0m\u001b[0m 50.88 KiB/147.34 KiB\n",
      "\u001b[2mfastmcp   \u001b[0m \u001b[32m----------\u001b[2m--------------------\u001b[0m\u001b[0m 63.89 KiB/194.52 KiB\n",
      "\u001b[2mauthlib   \u001b[0m \u001b[32m----\u001b[2m--------------------------\u001b[0m\u001b[0m 30.88 KiB/234.36 KiB\n",
      "\u001b[2mpydantic  \u001b[0m \u001b[32m-----------------\u001b[2m-------------\u001b[0m\u001b[0m 234.18 KiB/434.36 KiB\n",
      "\u001b[2K\u001b[7A   \u001b[36m\u001b[1mBuilding\u001b[0m\u001b[39m pyperclip\u001b[2m==1.9.0\u001b[0m\u001b[0m 94.88 KiB/573.64 KiB                  \u001b[7A\n",
      "\u001b[37m⠙\u001b[0m \u001b[2mPreparing packages...\u001b[0m (0/12)\n",
      "\u001b[2mopenapi-pydantic\u001b[0m \u001b[32m---------------------\u001b[2m---------\u001b[0m\u001b[0m 64.00 KiB/94.12 KiB\n",
      "\u001b[2mmcp       \u001b[0m \u001b[32m-----------------\u001b[2m-------------\u001b[0m\u001b[0m 82.88 KiB/147.34 KiB\n",
      "\u001b[2mfastmcp   \u001b[0m \u001b[32m----------\u001b[2m--------------------\u001b[0m\u001b[0m 63.89 KiB/194.52 KiB\n",
      "\u001b[2mauthlib   \u001b[0m \u001b[32m-------\u001b[2m-----------------------\u001b[0m\u001b[0m 46.88 KiB/234.36 KiB\n",
      "\u001b[2mpydantic  \u001b[0m \u001b[32m--------------------\u001b[2m----------\u001b[0m\u001b[0m 286.08 KiB/434.36 KiB\n",
      "\u001b[2K\u001b[7A   \u001b[36m\u001b[1mBuilding\u001b[0m\u001b[39m pyperclip\u001b[2m==1.9.0\u001b[0m\u001b[0m 94.88 KiB/573.64 KiB                  \u001b[7A\n",
      "\u001b[37m⠙\u001b[0m \u001b[2mPreparing packages...\u001b[0m (0/12)\n",
      "\u001b[2mmcp       \u001b[0m \u001b[32m------------------------\u001b[2m------\u001b[0m\u001b[0m 114.88 KiB/147.34 KiB\n",
      "\u001b[2mfastmcp   \u001b[0m \u001b[32m--------------------\u001b[2m----------\u001b[0m\u001b[0m 128.00 KiB/194.52 KiB\n",
      "\u001b[2mauthlib   \u001b[0m \u001b[32m---------\u001b[2m---------------------\u001b[0m\u001b[0m 62.88 KiB/234.36 KiB\n",
      "\u001b[2mpydantic  \u001b[0m \u001b[32m-------------------------\u001b[2m-----\u001b[0m\u001b[0m 350.08 KiB/434.36 KiB\n",
      "\u001b[2K\u001b[6A   \u001b[36m\u001b[1mBuilding\u001b[0m\u001b[39m pyperclip\u001b[2m==1.9.0\u001b[0m\u001b[0m 190.88 KiB/573.64 KiB                 \u001b[6A\n",
      "\u001b[37m⠙\u001b[0m \u001b[2mPreparing packages...\u001b[0m (0/12)\n",
      "\u001b[2mmcp       \u001b[0m \u001b[32m---------------------------\u001b[2m---\u001b[0m\u001b[0m 130.88 KiB/147.34 KiB\n",
      "\u001b[2mfastmcp   \u001b[0m \u001b[32m----------------------------\u001b[2m--\u001b[0m\u001b[0m 176.00 KiB/194.52 KiB\n",
      "\u001b[2mauthlib   \u001b[0m \u001b[32m-----------\u001b[2m-------------------\u001b[0m\u001b[0m 78.88 KiB/234.36 KiB\n",
      "\u001b[2K\u001b[5A   \u001b[36m\u001b[1mBuilding\u001b[0m\u001b[39m pyperclip\u001b[2m==1.9.0\u001b[0m\u001b[0m 206.88 KiB/573.64 KiB                 \u001b[5A\n",
      "\u001b[37m⠙\u001b[0m \u001b[2mPreparing packages...\u001b[0m (0/12)\n",
      "\u001b[2mfastmcp   \u001b[0m \u001b[32m------------------------------\u001b[2m\u001b[0m\u001b[0m 192.00 KiB/194.52 KiB\n",
      "\u001b[2mauthlib   \u001b[0m \u001b[32m-------------\u001b[2m-----------------\u001b[0m\u001b[0m 94.88 KiB/234.36 KiB\n",
      "\u001b[2K\u001b[4A   \u001b[36m\u001b[1mBuilding\u001b[0m\u001b[39m pyperclip\u001b[2m==1.9.0\u001b[0m\u001b[0m 222.88 KiB/573.64 KiB                 \u001b[4A\n",
      "\u001b[37m⠙\u001b[0m \u001b[2mPreparing packages...\u001b[0m (0/12)\n",
      "\u001b[2mauthlib   \u001b[0m \u001b[32m-------------\u001b[2m-----------------\u001b[0m\u001b[0m 94.88 KiB/234.36 KiB\n",
      "\u001b[2K\u001b[3A   \u001b[36m\u001b[1mBuilding\u001b[0m\u001b[39m pyperclip\u001b[2m==1.9.0\u001b[0m\u001b[0m 222.88 KiB/573.64 KiB                 \u001b[3A\n",
      "\u001b[37m⠙\u001b[0m \u001b[2mPreparing packages...\u001b[0m (0/12)\n",
      "\u001b[2K\u001b[2A   \u001b[36m\u001b[1mBuilding\u001b[0m\u001b[39m pyperclip\u001b[2m==1.9.0\u001b[0m\u001b[0m 557.74 KiB/573.64 KiB                 \u001b[2A\n",
      "\u001b[2K\u001b[1A   \u001b[36m\u001b[1mBuilding\u001b[0m\u001b[39m pyperclip\u001b[2m==1.9.0\u001b[0m                                   \u001b[1A\n",
      "\u001b[2K\u001b[1A      \u001b[32m\u001b[1mBuilt\u001b[0m\u001b[39m pyperclip\u001b[2m==1.9.0\u001b[0m                                   \u001b[1A\n",
      "\u001b[2K\u001b[2mPrepared \u001b[1m12 packages\u001b[0m \u001b[2min 343ms\u001b[0m\u001b[0m                                            \n",
      "\u001b[2mUninstalled \u001b[1m2 packages\u001b[0m \u001b[2min 57ms\u001b[0m\u001b[0m\n",
      "\u001b[2K\u001b[2mInstalled \u001b[1m13 packages\u001b[0m \u001b[2min 28ms\u001b[0m\u001b[0m.1                             \u001b[0m\n",
      " \u001b[32m+\u001b[39m \u001b[1mauthlib\u001b[0m\u001b[2m==1.6.0\u001b[0m\n",
      " \u001b[32m+\u001b[39m \u001b[1mcyclopts\u001b[0m\u001b[2m==3.22.2\u001b[0m\n",
      " \u001b[32m+\u001b[39m \u001b[1mdocutils\u001b[0m\u001b[2m==0.21.2\u001b[0m\n",
      " \u001b[32m+\u001b[39m \u001b[1mfastmcp\u001b[0m\u001b[2m==2.10.4\u001b[0m\n",
      " \u001b[32m+\u001b[39m \u001b[1mhttpx-sse\u001b[0m\u001b[2m==0.4.1\u001b[0m\n",
      " \u001b[32m+\u001b[39m \u001b[1mmcp\u001b[0m\u001b[2m==1.10.1\u001b[0m\n",
      " \u001b[32m+\u001b[39m \u001b[1mopenapi-pydantic\u001b[0m\u001b[2m==0.5.1\u001b[0m\n",
      " \u001b[31m-\u001b[39m \u001b[1mpydantic\u001b[0m\u001b[2m==2.10.5\u001b[0m\n",
      " \u001b[32m+\u001b[39m \u001b[1mpydantic\u001b[0m\u001b[2m==2.11.7\u001b[0m\n",
      " \u001b[31m-\u001b[39m \u001b[1mpydantic-core\u001b[0m\u001b[2m==2.27.2\u001b[0m\n",
      " \u001b[32m+\u001b[39m \u001b[1mpydantic-core\u001b[0m\u001b[2m==2.33.2\u001b[0m\n",
      " \u001b[32m+\u001b[39m \u001b[1mpyperclip\u001b[0m\u001b[2m==1.9.0\u001b[0m\n",
      " \u001b[32m+\u001b[39m \u001b[1mrich-rst\u001b[0m\u001b[2m==1.3.1\u001b[0m\n",
      " \u001b[32m+\u001b[39m \u001b[1msse-starlette\u001b[0m\u001b[2m==2.4.1\u001b[0m\n",
      " \u001b[32m+\u001b[39m \u001b[1muvicorn\u001b[0m\u001b[2m==0.35.0\u001b[0m\n"
     ]
    }
   ],
   "source": [
    "!uv pip install fastmcp"
   ]
  },
  {
   "cell_type": "code",
   "execution_count": 14,
   "id": "813c0f48",
   "metadata": {},
   "outputs": [
    {
     "name": "stdout",
     "output_type": "stream",
     "text": [
      "\u001b[2mUsing Python 3.10.17 environment at: /Users/haozhewang/Desktop/LLMZoomcamp/.venv\u001b[0m\n",
      "Name: fastmcp\n",
      "Version: 2.10.4\n",
      "Location: /Users/haozhewang/Desktop/LLMZoomcamp/.venv/lib/python3.10/site-packages\n",
      "Requires: authlib, cyclopts, exceptiongroup, httpx, mcp, openapi-pydantic, pydantic, pyperclip, python-dotenv, rich\n",
      "Required-by:\n"
     ]
    }
   ],
   "source": [
    "!uv pip show fastmcp"
   ]
  },
  {
   "cell_type": "markdown",
   "id": "d7c7d0d6",
   "metadata": {},
   "source": [
    "The version of FastMCP installed is 2.10.4"
   ]
  },
  {
   "cell_type": "markdown",
   "id": "b555c0aa",
   "metadata": {},
   "source": [
    "## Q4. Simple MCP Server \n",
    "\n",
    "A simple MCP server from the documentation looks like that:"
   ]
  },
  {
   "cell_type": "markdown",
   "id": "30b2f830",
   "metadata": {},
   "source": [
    "```python\n",
    "# weather_server.py\n",
    "from fastmcp import FastMCP\n",
    "\n",
    "mcp = FastMCP(\"Demo 🚀\")\n",
    "\n",
    "@mcp.tool\n",
    "def add(a: int, b: int) -> int:\n",
    "    \"\"\"Add two numbers\"\"\"\n",
    "    return a + b\n",
    "\n",
    "if __name__ == \"__main__\":\n",
    "    mcp.run()\n",
    "```"
   ]
  },
  {
   "cell_type": "markdown",
   "id": "c79dc288",
   "metadata": {},
   "source": [
    "In our case, we need to write docstrings for our functions.\n",
    "\n",
    "Let's ask ChatGPT for help:"
   ]
  },
  {
   "cell_type": "code",
   "execution_count": 15,
   "id": "edb1195d",
   "metadata": {},
   "outputs": [],
   "source": [
    "def get_weather(city: str) -> float:\n",
    "    \"\"\"\n",
    "    Retrieves the temperature for a specified city.\n",
    "\n",
    "    Parameters:\n",
    "        city (str): The name of the city for which to retrieve weather data.\n",
    "\n",
    "    Returns:\n",
    "        float: The temperature associated with the city.\n",
    "    \"\"\"\n",
    "    city = city.strip().lower()\n",
    "\n",
    "    if city in known_weather_data:\n",
    "        return known_weather_data[city]\n",
    "\n",
    "    return round(random.uniform(-5, 35), 1)"
   ]
  },
  {
   "cell_type": "code",
   "execution_count": 16,
   "id": "b1682825",
   "metadata": {},
   "outputs": [],
   "source": [
    "def set_weather(city: str, temp: float) -> None:\n",
    "    \"\"\"\n",
    "    Sets the temperature for a specified city.\n",
    "\n",
    "    Parameters:\n",
    "        city (str): The name of the city for which to set the weather data.\n",
    "        temp (float): The temperature to associate with the city.\n",
    "\n",
    "    Returns:\n",
    "        str: A confirmation string 'OK' indicating successful update.\n",
    "    \"\"\"\n",
    "    city = city.strip().lower()\n",
    "    known_weather_data[city] = temp\n",
    "    return 'OK'"
   ]
  },
  {
   "cell_type": "markdown",
   "id": "68e189ad",
   "metadata": {},
   "source": [
    "Let's change the example for our case and run it\n",
    "\n",
    "What do you see in the output?\n",
    "\n",
    "Look for a string that matches this template:\n",
    "\n",
    "```\n",
    "Starting MCP server 'Demo 🚀' with transport '<TODO>'\n",
    "```\n",
    "\n",
    "What do you have instead of `<TODO>`?"
   ]
  },
  {
   "cell_type": "markdown",
   "id": "03fdb691",
   "metadata": {},
   "source": [
    "I got `stdio` from the output."
   ]
  },
  {
   "cell_type": "markdown",
   "id": "2cdcf9cc",
   "metadata": {},
   "source": [
    "## Q5. Protocol\n",
    "\n",
    "There are different ways to communicate with an MCP server.\n",
    "Ours is currently running using standart input/output, which\n",
    "means that the client write something to stdin and read the\n",
    "answer using stdout.\n",
    "\n",
    "Our weather server is currently running.\n",
    "\n",
    "This is how we start communitcating with it:\n",
    "\n",
    "- First, we send an initialization request -- this way, we register our client with the server:\n",
    "    ```json\n",
    "    {\"jsonrpc\": \"2.0\", \"id\": 1, \"method\": \"initialize\", \"params\": {\"protocolVersion\": \"2024-11-05\", \"capabilities\": {\"roots\": {\"listChanged\": true}, \"sampling\": {}}, \"clientInfo\": {\"name\": \"test-client\", \"version\": \"1.0.0\"}}}\n",
    "    ```\n",
    "    We should get back something like that, which is an aknowledgement of the request:\n",
    "    ```json\n",
    "    {\"jsonrpc\":\"2.0\",\"id\":1,\"result\":{\"protocolVersion\":\"2024-11-05\",\"capabilities\":{\"experimental\":{},\"prompts\":{\"listChanged\":false},\"resources\":{\"subscribe\":false,\"listChanged\":false},\"tools\":{\"listChanged\":true}},\"serverInfo\":{\"name\":\"Demo 🚀\",\"version\":\"1.9.4\"}}}\n",
    "    ```\n",
    "-  Next, we reply back, confirming the initialization:\n",
    "    ```json\n",
    "    {\"jsonrpc\": \"2.0\", \"method\": \"notifications/initialized\"}\n",
    "    ```\n",
    "    We don't expect to get anything in response\n",
    "- Now we can ask for a list of available methods:\n",
    "    ```json\n",
    "    {\"jsonrpc\": \"2.0\", \"id\": 2, \"method\": \"tools/list\"}\n",
    "    ```\n",
    "- Let's ask the temperature in Berlin:\n",
    "    ```json\n",
    "    {\"jsonrpc\": \"2.0\", \"id\": 3, \"method\": \"tools/call\", \"params\": {\"name\": \"<TODO>\", \"arguments\": {<TODO>}}}\n",
    "    ```\n",
    "- What did you get in response?\n"
   ]
  },
  {
   "cell_type": "markdown",
   "id": "fe6bde85",
   "metadata": {},
   "source": [
    "Input used: \n",
    "```json\n",
    "{\"jsonrpc\": \"2.0\", \"id\": 3, \"method\": \"tools/call\", \"params\": {\"name\": \"get_weather\", \"arguments\": {\"city\": \"berlin\"}}}\n",
    "```\n",
    "\n",
    "Output:\n",
    "```json\n",
    "{\"jsonrpc\":\"2.0\",\"id\":3,\"result\":{\"content\":[{\"type\":\"text\",\"text\":\"20.0\"}],\"structuredContent\":{\"result\":20.0},\"isError\":false}}\n",
    "```"
   ]
  },
  {
   "cell_type": "markdown",
   "id": "bb1989fb",
   "metadata": {},
   "source": [
    "## Q6. Client\n",
    "\n",
    "We typically don't interact with the server by copy-pasting \n",
    "commands in the terminal.\n",
    "\n",
    "In practice, we use an MCP Client. Let's implement it. \n",
    "\n",
    "FastMCP also supports MCP clients:\n",
    "\n",
    "```python\n",
    "from fastmcp import Client\n",
    "\n",
    "async def main():\n",
    "    async with Client(<TODO>) as mcp_client:\n",
    "        # TODO\n",
    "```\n",
    "\n",
    "Use the client to get the list of available tools\n",
    "of our script. How does the result look like?\n",
    "\n",
    "If you're running this code in Jupyter, you need to pass\n",
    "an instance of MCP server to the `Client`:\n",
    "\n",
    "```python\n",
    "import weather_server\n",
    "\n",
    "async def main():\n",
    "    async with Client(weather_server.mcp) as mcp_client:\n",
    "        # ....\n",
    "```\n",
    "\n",
    "If you run it in a script, you will need to use asyncio:\n",
    "\n",
    "```python\n",
    "import asyncio\n",
    "\n",
    "async def main():\n",
    "    async with Client(\"weather_server.py\") as mcp_client:\n",
    "        # ...\n",
    "\n",
    "if __name__ == \"__main__\":\n",
    "    test = asyncio.run(main())\n",
    "```\n",
    "\n",
    "Copy the output with the available tools when\n",
    "filling in the homework form."
   ]
  },
  {
   "cell_type": "code",
   "execution_count": 18,
   "id": "c9461bb8",
   "metadata": {},
   "outputs": [
    {
     "name": "stdout",
     "output_type": "stream",
     "text": [
      "Available tools: [Tool(name='add', title=None, description='Add two numbers', inputSchema={'properties': {'a': {'title': 'A', 'type': 'integer'}, 'b': {'title': 'B', 'type': 'integer'}}, 'required': ['a', 'b'], 'type': 'object'}, outputSchema={'properties': {'result': {'title': 'Result', 'type': 'integer'}}, 'required': ['result'], 'title': '_WrappedResult', 'type': 'object', 'x-fastmcp-wrap-result': True}, annotations=None, meta=None), Tool(name='get_weather', title=None, description='Retrieves the temperature for a specified city.\\n\\nParameters:\\n    city (str): The name of the city for which to retrieve weather data.\\n\\nReturns:\\n    float: The temperature associated with the city.', inputSchema={'properties': {'city': {'title': 'City', 'type': 'string'}}, 'required': ['city'], 'type': 'object'}, outputSchema={'properties': {'result': {'title': 'Result', 'type': 'number'}}, 'required': ['result'], 'title': '_WrappedResult', 'type': 'object', 'x-fastmcp-wrap-result': True}, annotations=None, meta=None), Tool(name='set_weather', title=None, description=\"Sets the temperature for a specified city.\\n\\nParameters:\\n    city (str): The name of the city for which to set the weather data.\\n    temp (float): The temperature to associate with the city.\\n\\nReturns:\\n    str: A confirmation string 'OK' indicating successful update.\", inputSchema={'properties': {'city': {'title': 'City', 'type': 'string'}, 'temp': {'title': 'Temp', 'type': 'number'}}, 'required': ['city', 'temp'], 'type': 'object'}, outputSchema=None, annotations=None, meta=None)]\n"
     ]
    }
   ],
   "source": [
    "# Running the code in Jupyter\n",
    "from fastmcp import Client\n",
    "import weather_server\n",
    "\n",
    "async def main():\n",
    "    async with Client(weather_server.mcp) as mcp_client:\n",
    "        tools = await mcp_client.list_tools()\n",
    "        print(f\"Available tools: {tools}\")\n",
    "await main()"
   ]
  },
  {
   "cell_type": "markdown",
   "id": "e718e8b1",
   "metadata": {},
   "source": [
    "## Using tools from the MCP server (optional)\n",
    "\n",
    "FastMCP uses asyncio for client-server communication. In our\n",
    "case, the code we wrote previously in the module\n",
    "(chat_assistant.py) is not asyncio-friendly, so it will\n",
    "require a lot of adjustments to run it. \n",
    "\n",
    "Which is why we asked Claude to implement a simple\n",
    "non-async MCP client (see [mcp_client.py](mcp_client.py))\n",
    "that can only do this:\n",
    "\n",
    "- List tools\n",
    "- Invoke the specified tool\n",
    "\n",
    "Note: this is not a production-ready MCP Client! Use it\n",
    "only for learning purposes.\n",
    "\n",
    "Check the code - it's quite illustrative. Or experiment\n",
    "with writing this code yourself.\n",
    "\n",
    "Here's how we can use it:"
   ]
  },
  {
   "cell_type": "code",
   "execution_count": 19,
   "id": "489ca5cf",
   "metadata": {},
   "outputs": [
    {
     "name": "stdout",
     "output_type": "stream",
     "text": [
      "Started server with command: python weather_server.py\n",
      "Sending initialize request...\n",
      "Initialize response: {'protocolVersion': '2024-11-05', 'capabilities': {'experimental': {}, 'prompts': {'listChanged': False}, 'resources': {'subscribe': False, 'listChanged': False}, 'tools': {'listChanged': True}}, 'serverInfo': {'name': 'Demo 🚀', 'version': '1.10.1'}}\n",
      "Sending initialized notification...\n",
      "Handshake completed successfully\n"
     ]
    }
   ],
   "source": [
    "import mcp_client\n",
    "\n",
    "our_mcp_client = mcp_client.MCPClient([\"python\", \"weather_server.py\"])\n",
    "\n",
    "our_mcp_client.start_server()\n",
    "our_mcp_client.initialize()\n",
    "our_mcp_client.initialized()"
   ]
  },
  {
   "cell_type": "markdown",
   "id": "963ffe0b",
   "metadata": {},
   "source": [
    "While it's somewhat verbose, it follows\n",
    "the initialization structure we outlined in Q5.\n",
    "\n",
    "Now we can use it:"
   ]
  },
  {
   "cell_type": "code",
   "execution_count": 20,
   "id": "2657d39b",
   "metadata": {},
   "outputs": [
    {
     "name": "stdout",
     "output_type": "stream",
     "text": [
      "Retrieving available tools...\n",
      "Available tools: ['add', 'get_weather', 'set_weather']\n",
      "Calling tool 'get_weather' with arguments: {'city': 'Berlin'}\n"
     ]
    },
    {
     "data": {
      "text/plain": [
       "{'content': [{'type': 'text', 'text': '20.0'}],\n",
       " 'structuredContent': {'result': 20.0},\n",
       " 'isError': False}"
      ]
     },
     "execution_count": 20,
     "metadata": {},
     "output_type": "execute_result"
    }
   ],
   "source": [
    "our_mcp_client.get_tools()\n",
    "our_mcp_client.call_tool('get_weather', {'city': 'Berlin'})"
   ]
  },
  {
   "cell_type": "markdown",
   "id": "3e9a2524",
   "metadata": {},
   "source": [
    "In order to include it in our existing application, we need\n",
    "a wrapper class:"
   ]
  },
  {
   "cell_type": "code",
   "execution_count": 21,
   "id": "15e9098f",
   "metadata": {},
   "outputs": [],
   "source": [
    "from mcp_client import convert_tools_list\n",
    "import json\n",
    "\n",
    "class MCPTools:\n",
    "    def __init__(self, mcp_client):\n",
    "        self.mcp_client = mcp_client\n",
    "        self.tools = None\n",
    "    \n",
    "    def get_tools(self):\n",
    "        if self.tools is None:\n",
    "            mcp_tools = self.mcp_client.get_tools()\n",
    "            self.tools = convert_tools_list(mcp_tools)\n",
    "        return self.tools\n",
    "\n",
    "    def function_call(self, tool_call_response):\n",
    "        function_name = tool_call_response.name\n",
    "        arguments = json.loads(tool_call_response.arguments)\n",
    "\n",
    "        result = self.mcp_client.call_tool(function_name, arguments)\n",
    "\n",
    "        return {\n",
    "            \"type\": \"function_call_output\",\n",
    "            \"call_id\": tool_call_response.call_id,\n",
    "            \"output\": json.dumps(result, indent=2),\n",
    "        }\n"
   ]
  },
  {
   "cell_type": "markdown",
   "id": "0caa3155",
   "metadata": {},
   "source": [
    "It's very similar to the `Tools` class we created in the\n",
    "module, but it uses MCP to communicate with the MCP Server.\n",
    "\n",
    "(Where `convert_tools_list` converts MCP functions description\n",
    "format into the OpenAI's one)\n",
    "\n",
    "Let's use it:"
   ]
  },
  {
   "cell_type": "code",
   "execution_count": 22,
   "id": "c47d9f61",
   "metadata": {},
   "outputs": [
    {
     "name": "stdout",
     "output_type": "stream",
     "text": [
      "Started server with command: python weather_server.py\n",
      "Sending initialize request...\n",
      "Initialize response: {'protocolVersion': '2024-11-05', 'capabilities': {'experimental': {}, 'prompts': {'listChanged': False}, 'resources': {'subscribe': False, 'listChanged': False}, 'tools': {'listChanged': True}}, 'serverInfo': {'name': 'Demo 🚀', 'version': '1.10.1'}}\n",
      "Sending initialized notification...\n",
      "Handshake completed successfully\n",
      "Retrieving available tools...\n",
      "Available tools: ['add', 'get_weather', 'set_weather']\n",
      "Calling tool 'get_weather' with arguments: {'city': 'Berlin'}\n"
     ]
    },
    {
     "data": {
      "text/html": [
       "\n",
       "            <details>\n",
       "            <summary>Function call: <tt>get_weather({\"city\":\"Berlin\"})</tt></summary>\n",
       "            <div>\n",
       "                <b>Call</b>\n",
       "                <pre>ResponseFunctionToolCall(arguments='{\"city\":\"Berlin\"}', call_id='call_M8G9wtsYzlZ2EuyOvIFshmq5', name='get_weather', type='function_call', id='fc_6870677a42308198adad75dddaa350a800eaafc07481c1a2', status='completed')</pre>\n",
       "            </div>\n",
       "            <div>\n",
       "                <b>Output</b>\n",
       "                <pre>{\n",
       "  \"content\": [\n",
       "    {\n",
       "      \"type\": \"text\",\n",
       "      \"text\": \"20.0\"\n",
       "    }\n",
       "  ],\n",
       "  \"structuredContent\": {\n",
       "    \"result\": 20.0\n",
       "  },\n",
       "  \"isError\": false\n",
       "}</pre>\n",
       "            </div>\n",
       "            \n",
       "            </details>\n",
       "        "
      ],
      "text/plain": [
       "<IPython.core.display.HTML object>"
      ]
     },
     "metadata": {},
     "output_type": "display_data"
    },
    {
     "data": {
      "text/html": [
       "\n",
       "            <div>\n",
       "                <div><b>Assistant:</b></div>\n",
       "                <div><p>The current temperature in Berlin is 20.0°C.</p></div>\n",
       "            </div>\n",
       "        "
      ],
      "text/plain": [
       "<IPython.core.display.HTML object>"
      ]
     },
     "metadata": {},
     "output_type": "display_data"
    },
    {
     "name": "stdout",
     "output_type": "stream",
     "text": [
      "Calling tool 'set_weather' with arguments: {'city': 'London', 'temp': 15}\n"
     ]
    },
    {
     "data": {
      "text/html": [
       "\n",
       "            <details>\n",
       "            <summary>Function call: <tt>set_weather({\"city\":\"London\",\"temp\":15})</tt></summary>\n",
       "            <div>\n",
       "                <b>Call</b>\n",
       "                <pre>ResponseFunctionToolCall(arguments='{\"city\":\"London\",\"temp\":15}', call_id='call_BO86iLVclVtKMtCpYWARS9va', name='set_weather', type='function_call', id='fc_687067884a8081988159b1208bc73cca00eaafc07481c1a2', status='completed')</pre>\n",
       "            </div>\n",
       "            <div>\n",
       "                <b>Output</b>\n",
       "                <pre>{\n",
       "  \"content\": [\n",
       "    {\n",
       "      \"type\": \"text\",\n",
       "      \"text\": \"OK\"\n",
       "    }\n",
       "  ],\n",
       "  \"isError\": false\n",
       "}</pre>\n",
       "            </div>\n",
       "            \n",
       "            </details>\n",
       "        "
      ],
      "text/plain": [
       "<IPython.core.display.HTML object>"
      ]
     },
     "metadata": {},
     "output_type": "display_data"
    },
    {
     "data": {
      "text/html": [
       "\n",
       "            <div>\n",
       "                <div><b>Assistant:</b></div>\n",
       "                <div><p>The temperature in London has been set to 15°C.</p></div>\n",
       "            </div>\n",
       "        "
      ],
      "text/plain": [
       "<IPython.core.display.HTML object>"
      ]
     },
     "metadata": {},
     "output_type": "display_data"
    },
    {
     "name": "stdout",
     "output_type": "stream",
     "text": [
      "Calling tool 'get_weather' with arguments: {'city': 'London'}\n"
     ]
    },
    {
     "data": {
      "text/html": [
       "\n",
       "            <details>\n",
       "            <summary>Function call: <tt>get_weather({\"city\":\"London\"})</tt></summary>\n",
       "            <div>\n",
       "                <b>Call</b>\n",
       "                <pre>ResponseFunctionToolCall(arguments='{\"city\":\"London\"}', call_id='call_wNZGsdAdLmwZoPheC3oI88vV', name='get_weather', type='function_call', id='fc_68706792182c81988d9719f0c51037ca00eaafc07481c1a2', status='completed')</pre>\n",
       "            </div>\n",
       "            <div>\n",
       "                <b>Output</b>\n",
       "                <pre>{\n",
       "  \"content\": [\n",
       "    {\n",
       "      \"type\": \"text\",\n",
       "      \"text\": \"15.0\"\n",
       "    }\n",
       "  ],\n",
       "  \"structuredContent\": {\n",
       "    \"result\": 15.0\n",
       "  },\n",
       "  \"isError\": false\n",
       "}</pre>\n",
       "            </div>\n",
       "            \n",
       "            </details>\n",
       "        "
      ],
      "text/plain": [
       "<IPython.core.display.HTML object>"
      ]
     },
     "metadata": {},
     "output_type": "display_data"
    },
    {
     "data": {
      "text/html": [
       "\n",
       "            <div>\n",
       "                <div><b>Assistant:</b></div>\n",
       "                <div><p>The current temperature in London is 15.0°C.</p></div>\n",
       "            </div>\n",
       "        "
      ],
      "text/plain": [
       "<IPython.core.display.HTML object>"
      ]
     },
     "metadata": {},
     "output_type": "display_data"
    },
    {
     "name": "stdout",
     "output_type": "stream",
     "text": [
      "Chat ended.\n"
     ]
    }
   ],
   "source": [
    "our_mcp_client = mcp_client.MCPClient([\"python\", \"weather_server.py\"])\n",
    "\n",
    "our_mcp_client.start_server()\n",
    "our_mcp_client.initialize()\n",
    "our_mcp_client.initialized()\n",
    "\n",
    "mcp_tools = mcp_client.MCPTools(mcp_client=our_mcp_client)\n",
    "\n",
    "\n",
    "developer_prompt = \"\"\"\n",
    "You help users find out the weather in their cities. \n",
    "If they didn't specify a city, ask them. Make sure we always use a city.\n",
    "\"\"\".strip()\n",
    "\n",
    "chat_interface = chat_assistant.ChatInterface()\n",
    "\n",
    "chat = chat_assistant.ChatAssistant(\n",
    "    tools=mcp_tools,\n",
    "    developer_prompt=developer_prompt,\n",
    "    chat_interface=chat_interface,\n",
    "    client=client\n",
    ")\n",
    "\n",
    "chat.run()"
   ]
  },
  {
   "cell_type": "markdown",
   "id": "f85b4a93",
   "metadata": {},
   "source": [
    "Now we use the MCP server for function calling!"
   ]
  },
  {
   "cell_type": "markdown",
   "id": "ed09412d",
   "metadata": {},
   "source": [
    "## Submit the results\n",
    "\n",
    "* Submit your results here: https://courses.datatalks.club/llm-zoomcamp-2025/homework/agents"
   ]
  }
 ],
 "metadata": {
  "kernelspec": {
   "display_name": ".venv",
   "language": "python",
   "name": "python3"
  },
  "language_info": {
   "codemirror_mode": {
    "name": "ipython",
    "version": 3
   },
   "file_extension": ".py",
   "mimetype": "text/x-python",
   "name": "python",
   "nbconvert_exporter": "python",
   "pygments_lexer": "ipython3",
   "version": "3.10.17"
  }
 },
 "nbformat": 4,
 "nbformat_minor": 5
}
